{
 "cells": [
  {
   "cell_type": "code",
   "execution_count": 43,
   "id": "d6398eac-e255-4eac-bba0-2cb46f9af5de",
   "metadata": {},
   "outputs": [],
   "source": [
    "import numpy as np\n",
    "import pandas as pd\n",
    "import matplotlib.pyplot as plt\n",
    "from sklearn.preprocessing import StandardScaler\n",
    "from imblearn.over_sampling import RandomOverSampler"
   ]
  },
  {
   "cell_type": "code",
   "execution_count": 44,
   "id": "4cee2595-a1f9-45ce-866f-710232e89348",
   "metadata": {},
   "outputs": [
    {
     "data": {
      "text/html": [
       "<div>\n",
       "<style scoped>\n",
       "    .dataframe tbody tr th:only-of-type {\n",
       "        vertical-align: middle;\n",
       "    }\n",
       "\n",
       "    .dataframe tbody tr th {\n",
       "        vertical-align: top;\n",
       "    }\n",
       "\n",
       "    .dataframe thead th {\n",
       "        text-align: right;\n",
       "    }\n",
       "</style>\n",
       "<table border=\"1\" class=\"dataframe\">\n",
       "  <thead>\n",
       "    <tr style=\"text-align: right;\">\n",
       "      <th></th>\n",
       "      <th>ID</th>\n",
       "      <th>cThick</th>\n",
       "      <th>UCSize</th>\n",
       "      <th>UCShape</th>\n",
       "      <th>Adhesion</th>\n",
       "      <th>CECSize</th>\n",
       "      <th>Bland</th>\n",
       "      <th>Normal</th>\n",
       "      <th>Mitoses</th>\n",
       "      <th>class</th>\n",
       "    </tr>\n",
       "  </thead>\n",
       "  <tbody>\n",
       "    <tr>\n",
       "      <th>0</th>\n",
       "      <td>1000025</td>\n",
       "      <td>5</td>\n",
       "      <td>1</td>\n",
       "      <td>1</td>\n",
       "      <td>1</td>\n",
       "      <td>2</td>\n",
       "      <td>3</td>\n",
       "      <td>1</td>\n",
       "      <td>1</td>\n",
       "      <td>2</td>\n",
       "    </tr>\n",
       "    <tr>\n",
       "      <th>1</th>\n",
       "      <td>1002945</td>\n",
       "      <td>5</td>\n",
       "      <td>4</td>\n",
       "      <td>4</td>\n",
       "      <td>5</td>\n",
       "      <td>7</td>\n",
       "      <td>3</td>\n",
       "      <td>2</td>\n",
       "      <td>1</td>\n",
       "      <td>2</td>\n",
       "    </tr>\n",
       "    <tr>\n",
       "      <th>2</th>\n",
       "      <td>1015425</td>\n",
       "      <td>3</td>\n",
       "      <td>1</td>\n",
       "      <td>1</td>\n",
       "      <td>1</td>\n",
       "      <td>2</td>\n",
       "      <td>3</td>\n",
       "      <td>1</td>\n",
       "      <td>1</td>\n",
       "      <td>2</td>\n",
       "    </tr>\n",
       "    <tr>\n",
       "      <th>3</th>\n",
       "      <td>1016277</td>\n",
       "      <td>6</td>\n",
       "      <td>8</td>\n",
       "      <td>8</td>\n",
       "      <td>1</td>\n",
       "      <td>3</td>\n",
       "      <td>3</td>\n",
       "      <td>7</td>\n",
       "      <td>1</td>\n",
       "      <td>2</td>\n",
       "    </tr>\n",
       "    <tr>\n",
       "      <th>4</th>\n",
       "      <td>1017023</td>\n",
       "      <td>4</td>\n",
       "      <td>1</td>\n",
       "      <td>1</td>\n",
       "      <td>3</td>\n",
       "      <td>2</td>\n",
       "      <td>3</td>\n",
       "      <td>1</td>\n",
       "      <td>1</td>\n",
       "      <td>2</td>\n",
       "    </tr>\n",
       "  </tbody>\n",
       "</table>\n",
       "</div>"
      ],
      "text/plain": [
       "        ID  cThick  UCSize  UCShape  Adhesion  CECSize  Bland  Normal  \\\n",
       "0  1000025       5       1        1         1        2      3       1   \n",
       "1  1002945       5       4        4         5        7      3       2   \n",
       "2  1015425       3       1        1         1        2      3       1   \n",
       "3  1016277       6       8        8         1        3      3       7   \n",
       "4  1017023       4       1        1         3        2      3       1   \n",
       "\n",
       "   Mitoses  class  \n",
       "0        1      2  \n",
       "1        1      2  \n",
       "2        1      2  \n",
       "3        1      2  \n",
       "4        1      2  "
      ]
     },
     "execution_count": 44,
     "metadata": {},
     "output_type": "execute_result"
    }
   ],
   "source": [
    "cols = [\"ID\",\"cThick\",\"UCSize\", \"UCShape\", \"Adhesion\", \"CECSize\", \"Bare\", \"Bland\", \"Normal\", \"Mitoses\",\"class\"]\n",
    "df = pd.read_csv(\"breast-cancer-wisconsin.data\", names=cols)\n",
    "df.drop(\"Bare\", inplace=True, axis=1)\n",
    "df.head()"
   ]
  },
  {
   "cell_type": "code",
   "execution_count": null,
   "id": "8a0381be-26e2-4e84-802f-1fa49a0c4a80",
   "metadata": {},
   "outputs": [],
   "source": []
  },
  {
   "cell_type": "code",
   "execution_count": 47,
   "id": "a8bc3341-08eb-4376-9b22-965dd55db73a",
   "metadata": {},
   "outputs": [
    {
     "name": "stderr",
     "output_type": "stream",
     "text": [
      "C:\\Users\\Drew Miccoli\\Lib\\site-packages\\numpy\\core\\fromnumeric.py:57: FutureWarning: 'DataFrame.swapaxes' is deprecated and will be removed in a future version. Please use 'DataFrame.transpose' instead.\n",
      "  return bound(*args, **kwds)\n"
     ]
    }
   ],
   "source": [
    "train, valid, test = np.split(df.sample(frac=1), [int(.6*len(df)), int(.8*len(df))])"
   ]
  },
  {
   "cell_type": "code",
   "execution_count": 48,
   "id": "b9c6ff10-5f3a-426c-9cb0-bff39aca398f",
   "metadata": {},
   "outputs": [],
   "source": [
    "def scale_dataset(dataframe, oversample=False):\n",
    "    x = dataframe[dataframe.columns[:-1]].values\n",
    "    y = dataframe[dataframe.columns[-1]].values\n",
    "\n",
    "    scaler = StandardScaler()\n",
    "    if oversample:\n",
    "        ros = RandomOverSampler()\n",
    "        x, y = ros.fit_resample(x, y)\n",
    "        \n",
    "    x = scaler.fit_transform(x)\n",
    "    data = np.hstack((x,np.reshape(y, (-1,1))))\n",
    "    return data, x, y"
   ]
  },
  {
   "cell_type": "code",
   "execution_count": 49,
   "id": "e9cd36eb-7a95-43b9-a5b8-aaafe76b37f5",
   "metadata": {},
   "outputs": [],
   "source": [
    "train, X_train, Y_train = scale_dataset(train, oversample=True)\n",
    "valid, X_valid, Y_valid = scale_dataset(valid, oversample=False)\n",
    "test, X_test, Y_test = scale_dataset(test, oversample=False)"
   ]
  },
  {
   "cell_type": "markdown",
   "id": "abda4a47-07ed-4dc2-9ba7-71aec5844224",
   "metadata": {},
   "source": [
    "# Importing ML algorithms and Classification Report"
   ]
  },
  {
   "cell_type": "code",
   "execution_count": 36,
   "id": "8b005d86-ef55-4a78-84d1-9f16cde92c68",
   "metadata": {},
   "outputs": [],
   "source": [
    "from sklearn.neighbors import KNeighborsClassifier\n",
    "from sklearn.naive_bayes import GaussianNB\n",
    "from sklearn.linear_model import LogisticRegression\n",
    "from sklearn.svm import SVC\n",
    "from sklearn.metrics import classification_report"
   ]
  },
  {
   "cell_type": "markdown",
   "id": "c1458fbb-c346-4b8e-8f45-558837215a1a",
   "metadata": {},
   "source": [
    "# kNN"
   ]
  },
  {
   "cell_type": "code",
   "execution_count": 34,
   "id": "c8c6c00f-1ad7-4281-a670-d28e9d7f91fa",
   "metadata": {},
   "outputs": [
    {
     "name": "stdout",
     "output_type": "stream",
     "text": [
      "              precision    recall  f1-score   support\n",
      "\n",
      "           2       1.00      0.92      0.96        98\n",
      "           4       0.84      1.00      0.91        42\n",
      "\n",
      "    accuracy                           0.94       140\n",
      "   macro avg       0.92      0.96      0.94       140\n",
      "weighted avg       0.95      0.94      0.94       140\n",
      "\n"
     ]
    }
   ],
   "source": [
    "knn_model = KNeighborsClassifier(n_neighbors=7)\n",
    "knn_model.fit(X_train, Y_train)\n",
    "Y_pred = knn_model.predict(X_test)\n",
    "print(classification_report(Y_test, Y_pred))"
   ]
  },
  {
   "cell_type": "markdown",
   "id": "ee718f7e-f750-4b8f-b400-f5821ea4b2ce",
   "metadata": {},
   "source": [
    "# Naive Bayes"
   ]
  },
  {
   "cell_type": "code",
   "execution_count": 38,
   "id": "514bccfa-c031-4561-8b76-ac318279cc6a",
   "metadata": {},
   "outputs": [
    {
     "name": "stdout",
     "output_type": "stream",
     "text": [
      "              precision    recall  f1-score   support\n",
      "\n",
      "           2       1.00      0.89      0.94        98\n",
      "           4       0.79      1.00      0.88        42\n",
      "\n",
      "    accuracy                           0.92       140\n",
      "   macro avg       0.90      0.94      0.91       140\n",
      "weighted avg       0.94      0.92      0.92       140\n",
      "\n"
     ]
    }
   ],
   "source": [
    "nb_model = GaussianNB()\n",
    "nb_model.fit(X_train, Y_train)\n",
    "Y_pred = nb_model.predict(X_test)\n",
    "print(classification_report(Y_test, Y_pred))"
   ]
  },
  {
   "cell_type": "markdown",
   "id": "9723becc-2b20-4d89-8ed7-4876908e6840",
   "metadata": {},
   "source": [
    "# Logistic Regression"
   ]
  },
  {
   "cell_type": "code",
   "execution_count": 39,
   "id": "5f8d8f13-ba8e-40ce-bae6-bb591f524fc6",
   "metadata": {},
   "outputs": [
    {
     "name": "stdout",
     "output_type": "stream",
     "text": [
      "              precision    recall  f1-score   support\n",
      "\n",
      "           2       1.00      0.91      0.95        98\n",
      "           4       0.82      1.00      0.90        42\n",
      "\n",
      "    accuracy                           0.94       140\n",
      "   macro avg       0.91      0.95      0.93       140\n",
      "weighted avg       0.95      0.94      0.94       140\n",
      "\n"
     ]
    }
   ],
   "source": [
    "lr_model = LogisticRegression()\n",
    "lr_model.fit(X_train, Y_train)\n",
    "Y_pred = lr_model.predict(X_test)\n",
    "print(classification_report(Y_test, Y_pred))"
   ]
  },
  {
   "cell_type": "markdown",
   "id": "2a6752a3-e929-45c1-9527-aadcd4d1b009",
   "metadata": {},
   "source": [
    "# SVC"
   ]
  },
  {
   "cell_type": "code",
   "execution_count": 41,
   "id": "d2b25052-879c-4fce-9afc-b1ffb6513c7a",
   "metadata": {},
   "outputs": [
    {
     "name": "stdout",
     "output_type": "stream",
     "text": [
      "              precision    recall  f1-score   support\n",
      "\n",
      "           2       1.00      0.89      0.94        98\n",
      "           4       0.79      1.00      0.88        42\n",
      "\n",
      "    accuracy                           0.92       140\n",
      "   macro avg       0.90      0.94      0.91       140\n",
      "weighted avg       0.94      0.92      0.92       140\n",
      "\n"
     ]
    }
   ],
   "source": [
    "svc_model = SVC()\n",
    "svc_model.fit(X_train, Y_train)\n",
    "Y_pred = nb_model.predict(X_test)\n",
    "print(classification_report(Y_test, Y_pred))"
   ]
  }
 ],
 "metadata": {
  "kernelspec": {
   "display_name": "Python 3 (ipykernel)",
   "language": "python",
   "name": "python3"
  },
  "language_info": {
   "codemirror_mode": {
    "name": "ipython",
    "version": 3
   },
   "file_extension": ".py",
   "mimetype": "text/x-python",
   "name": "python",
   "nbconvert_exporter": "python",
   "pygments_lexer": "ipython3",
   "version": "3.11.5"
  }
 },
 "nbformat": 4,
 "nbformat_minor": 5
}
